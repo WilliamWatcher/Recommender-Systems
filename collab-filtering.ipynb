{
 "cells": [
  {
   "cell_type": "markdown",
   "metadata": {},
   "source": [
    "## Collaborative Filtering\n",
    "\n",
    "Due to the relatively high number of binary ratings per user, we've chosen to utilize User-Based Collaborative Filtering to suggest news articles\n",
    "\n",
    "User-Based Collaborative Filtering Methodology in a nutshell:\n",
    "1. Calculate User Similarity\n",
    "2. Find the k most similar users to the target user\n",
    "3. Extract the articles the target user has not interacted with for k most similar users\n",
    "4. Sort article recommendations by score in descending order\n"
   ]
  }
 ],
 "metadata": {
  "kernelspec": {
   "display_name": "Python 3",
   "language": "python",
   "name": "python3"
  },
  "language_info": {
   "name": "python",
   "version": "3.10.7"
  }
 },
 "nbformat": 4,
 "nbformat_minor": 2
}
