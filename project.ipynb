{
 "cells": [
  {
   "cell_type": "markdown",
   "metadata": {},
   "source": [
    "# Recommender systems\n",
    "\n",
    "TODO: Add more information"
   ]
  },
  {
   "cell_type": "markdown",
   "metadata": {},
   "source": [
    "## Implementation"
   ]
  },
  {
   "cell_type": "code",
   "execution_count": 6,
   "metadata": {},
   "outputs": [],
   "source": [
    "# installations\n",
    "#pip install pandas\n",
    "#pip install numpy\n",
    "#pip install matplotlib"
   ]
  },
  {
   "cell_type": "code",
   "execution_count": 7,
   "metadata": {},
   "outputs": [],
   "source": [
    "# import libraries and datasets\n",
    "\n",
    "import pandas as pd\n",
    "import numpy as np\n",
    "import matplotlib.pyplot as plt\n",
    "\n",
    "# load the dataset\n",
    "\n",
    "behavior = pd.read_csv(\"data/MINDsmall_dev/behaviors.tsv\", sep=\"\\t\", header=None, names=[\"Impression ID\", \"User ID\", \"Time\", \"History\", \"Impressions\"])\n",
    "news = pd.read_csv(\"data/MINDsmall_dev/news.tsv\", sep=\"\\t\", header=None, names=[\"News ID\", \"Category\", \"Subcategory\", \"Title\", \"Abstract\", \"URL\", \"Title Entities\", \"Abstract Entities\", \"Title Topics\", \"Abstract Topics\"])\n",
    "#TODO: read embeddings"
   ]
  },
  {
   "cell_type": "markdown",
   "metadata": {},
   "source": [
    "### Baseline Method\n",
    "\n",
    "TODO: Write about most popular "
   ]
  },
  {
   "cell_type": "code",
   "execution_count": 8,
   "metadata": {},
   "outputs": [
    {
     "name": "stdout",
     "output_type": "stream",
     "text": [
      "[('N31958', 8042), ('N36779', 4688), ('N5940', 4191), ('N20036', 3826), ('N23513', 2900), ('N30290', 2853), ('N58251', 2536), ('N24802', 2247), ('N5472', 2135), ('N53572', 1826)]\n"
     ]
    }
   ],
   "source": [
    "# Find most popular news article in the dataset\n",
    "# choosing to ignore the history column for now as we do not have the time of click for each article and thus cannot weigh the popularity of the article based on the time of click\n",
    "\n",
    "# weight the popularity of the article based on the time of click, but is it necessary as the dataset is only from 2019-11-15 00:00:01 to 2019-11-15 23:58:03\n",
    "# TODO: should probably check if any user has clicked on the same article multiple times and if so, only count it once or weigh it differently\n",
    "\n",
    "# new dictionary to store the count of each article\n",
    "most_popular_news = {} #should probably be a dataframe for easier manipulation\n",
    "\n",
    "# count the number of times each article has been clicked\n",
    "for index, row in behavior.iterrows():\n",
    "    \n",
    "    for article in row[\"Impressions\"].split(\" \"):\n",
    "        \n",
    "        article_id = article.split(\"-\")[0]\n",
    "        impression = article.split(\"-\")[1]\n",
    "\n",
    "        if impression == \"1\":\n",
    "            if article_id in most_popular_news:\n",
    "                most_popular_news[article_id] += 1\n",
    "            else:\n",
    "                most_popular_news[article_id] = 1\n",
    "\n",
    "# sort the dictionary by the number of clicks\n",
    "sorted_most_popular_news = sorted(most_popular_news.items(), key=lambda x: x[1], reverse=True)\n",
    "\n",
    "print(sorted_most_popular_news[:10])\n"
   ]
  },
  {
   "cell_type": "markdown",
   "metadata": {},
   "source": [
    "### Advanced Methods \n",
    "\n",
    "#### Content-based Filtering"
   ]
  },
  {
   "cell_type": "code",
   "execution_count": 9,
   "metadata": {},
   "outputs": [],
   "source": [
    "#TODO: Implement"
   ]
  },
  {
   "cell_type": "markdown",
   "metadata": {},
   "source": [
    "#### Collaborative filtering"
   ]
  },
  {
   "cell_type": "code",
   "execution_count": 10,
   "metadata": {},
   "outputs": [],
   "source": [
    "#TODO: Implement"
   ]
  },
  {
   "cell_type": "markdown",
   "metadata": {},
   "source": [
    "## Evaluation \n",
    "\n",
    "TODO "
   ]
  }
 ],
 "metadata": {
  "kernelspec": {
   "display_name": "Python 3",
   "language": "python",
   "name": "python3"
  },
  "language_info": {
   "codemirror_mode": {
    "name": "ipython",
    "version": 3
   },
   "file_extension": ".py",
   "mimetype": "text/x-python",
   "name": "python",
   "nbconvert_exporter": "python",
   "pygments_lexer": "ipython3",
   "version": "3.10.7"
  }
 },
 "nbformat": 4,
 "nbformat_minor": 2
}
