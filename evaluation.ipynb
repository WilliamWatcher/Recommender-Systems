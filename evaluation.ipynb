{
 "cells": [
  {
   "cell_type": "markdown",
   "metadata": {},
   "source": [
    "## Evaluation\n",
    "\n",
    "##### How to run:\n",
    "\n",
    "Run all cells up to, and including, the loading data section.\n",
    "\n",
    "Before running the evaluation, comment out function calls, dataset loading, and test code in the files for the recommenders (feature_based.ipynb or item_collab_filtering.ipynb).\n",
    "Run all cells in the section belonging to the recommender you want to evaluate.\n",
    "\n",
    "\n",
    "## Required packages:\n",
    "\n",
    "##### All:\n",
    " - pandas\n",
    " - numpy\n",
    " - scikit-learn\n",
    "\n",
    "##### Collaborative Filtering:\n",
    " - pyspark"
   ]
  },
  {
   "cell_type": "code",
   "execution_count": null,
   "metadata": {},
   "outputs": [],
   "source": [
    "# import libraries\n",
    "\n",
    "import pandas as pd\n",
    "import numpy as np\n",
    "from sklearn.metrics import ndcg_score\n",
    "from datetime import datetime as datetime"
   ]
  },
  {
   "cell_type": "markdown",
   "metadata": {},
   "source": [
    "#### Defining Helper Functions"
   ]
  },
  {
   "cell_type": "code",
   "execution_count": null,
   "metadata": {},
   "outputs": [],
   "source": [
    "# Get all impressions from a specific user in a behavior dataframe, and add them to a new dataframe\n",
    "def get_impressions(userID, behavior_view):\n",
    "    test = []\n",
    "    for index, row in behavior_view.iterrows():\n",
    "        if row[\"User ID\"] == userID:\n",
    "            for impression in row[\"Impressions\"].split(\" \"):\n",
    "                imp = impression.split(\"-\")\n",
    "                if imp[1] == \"1\":\n",
    "                    test.append((imp[0], 1))\n",
    "                else:\n",
    "                    test.append((imp[0], 0))\n",
    "    return pd.DataFrame(test, columns=[\"News ID\", \"Response\"])\n",
    "\n",
    "\n",
    "# Get df of all user IDs\n",
    "def get_users(view1, view2):\n",
    "    return pd.merge(left=view1[\"User ID\"], right=view2[\"User ID\"], how=\"inner\", on=\"User ID\")[\"User ID\"].unique()\n",
    "\n",
    "# Get a timegated view of a behavior dataframe\n",
    "def get_view(behavior, t0, t1):\n",
    "    df = behavior[(behavior[\"Timestamp\"] >= t0) & (behavior[\"Timestamp\"] < t1)]\n",
    "    return df"
   ]
  },
  {
   "cell_type": "markdown",
   "metadata": {},
   "source": [
    "#### Loading Data"
   ]
  },
  {
   "cell_type": "code",
   "execution_count": 22,
   "metadata": {},
   "outputs": [],
   "source": [
    "behavior = pd.read_csv(\"data/MINDsmall_train/behaviors.tsv\", sep=\"\\t\", header=None, names=[\"Impression ID\", \"User ID\", \"Time\", \"History\", \"Impressions\"])\n",
    "news = pd.read_csv(\"data/MINDsmall_train/news.tsv\", sep=\"\\t\", header=None, names=[\"News ID\", \"Category\", \"Subcategory\", \"Title\", \"Abstract\", \"URL\", \"Title Entities\", \"Abstract Entities\", \"Title Topics\", \"Abstract Topics\"])"
   ]
  },
  {
   "cell_type": "code",
   "execution_count": 23,
   "metadata": {},
   "outputs": [
    {
     "name": "stderr",
     "output_type": "stream",
     "text": [
      "C:\\Users\\Bruker\\AppData\\Local\\Temp\\ipykernel_9640\\3025606149.py:9: FutureWarning: A value is trying to be set on a copy of a DataFrame or Series through chained assignment using an inplace method.\n",
      "The behavior will change in pandas 3.0. This inplace method will never work because the intermediate object on which we are setting values always behaves as a copy.\n",
      "\n",
      "For example, when doing 'df[col].method(value, inplace=True)', try using 'df.method({col: value}, inplace=True)' or df[col] = df[col].method(value) instead, to perform the operation inplace on the original object.\n",
      "\n",
      "\n",
      "  news['Abstract'].fillna('No abstract available', inplace=True)\n"
     ]
    }
   ],
   "source": [
    "def str_to_timestamp(str):\n",
    "    return datetime.strptime(str, \"%m/%d/%Y %H:%M:%S %p\").timestamp()\n",
    "\n",
    "timestamps = behavior[\"Time\"].apply(str_to_timestamp)\n",
    "behavior[\"Timestamp\"] = timestamps\n",
    "behavior.sort_values(by=\"Timestamp\")\n",
    "\n",
    "#Fill missing abstracts with placeholder\n",
    "news['Abstract'].fillna('No abstract available', inplace=True)\n",
    "\n",
    "# if there are rows with no impressions, drop them\n",
    "behavior = behavior.dropna(subset=['Impressions']) # this looses some user information, could instead manually overwrite and fill in the missing values based on the typo combining the impression and history columns"
   ]
  },
  {
   "cell_type": "markdown",
   "metadata": {},
   "source": [
    "#### Evaluate Feature-Based Model"
   ]
  },
  {
   "cell_type": "code",
   "execution_count": 19,
   "metadata": {},
   "outputs": [],
   "source": [
    "# Importing functions from feature_based.ipynb\n",
    "# Comment out function calls in feature_based.ipynb (except the pd.set_option calls) before running this field\n",
    "%run feature_based.ipynb"
   ]
  },
  {
   "cell_type": "code",
   "execution_count": 20,
   "metadata": {},
   "outputs": [],
   "source": [
    "X_j, news_id_to_index = create_all_item_vectors(news)\n",
    "\n",
    "evaluations_ndcg = []\n",
    "evaluations_pak = []\n",
    "\n",
    "t0 = float(behavior[\"Timestamp\"][0])\n",
    "tn = float(behavior[\"Timestamp\"][len(behavior[\"Timestamp\"])-1])\n",
    "\n",
    "split_ratio = 85/100\n",
    "dt = (tn-t0)/5\n",
    "k = 5"
   ]
  },
  {
   "cell_type": "code",
   "execution_count": 21,
   "metadata": {},
   "outputs": [
    {
     "name": "stdout",
     "output_type": "stream",
     "text": [
      "moving timeframe\n",
      "moving timeframe\n"
     ]
    },
    {
     "ename": "KeyboardInterrupt",
     "evalue": "",
     "output_type": "error",
     "traceback": [
      "\u001b[1;31m---------------------------------------------------------------------------\u001b[0m",
      "\u001b[1;31mKeyboardInterrupt\u001b[0m                         Traceback (most recent call last)",
      "Cell \u001b[1;32mIn[21], line 15\u001b[0m\n\u001b[0;32m     12\u001b[0m users \u001b[38;5;241m=\u001b[39m get_users(test_view, train_view)\n\u001b[0;32m     14\u001b[0m \u001b[38;5;28;01mfor\u001b[39;00m user \u001b[38;5;129;01min\u001b[39;00m users:\n\u001b[1;32m---> 15\u001b[0m     prediction \u001b[38;5;241m=\u001b[39m pd\u001b[38;5;241m.\u001b[39mDataFrame(\u001b[43mfind_top_k_articles\u001b[49m\u001b[43m(\u001b[49m\u001b[43muser\u001b[49m\u001b[43m,\u001b[49m\u001b[43m \u001b[49m\u001b[43mX_j\u001b[49m\u001b[43m,\u001b[49m\u001b[43m \u001b[49m\u001b[38;5;241;43m600000\u001b[39;49m\u001b[43m,\u001b[49m\u001b[43m \u001b[49m\u001b[43mnews_id_to_index\u001b[49m\u001b[43m,\u001b[49m\u001b[43m \u001b[49m\u001b[43mtrain_view\u001b[49m\u001b[43m)\u001b[49m, columns\u001b[38;5;241m=\u001b[39m[\u001b[38;5;124m\"\u001b[39m\u001b[38;5;124mNews ID\u001b[39m\u001b[38;5;124m\"\u001b[39m, \u001b[38;5;124m\"\u001b[39m\u001b[38;5;124mScore\u001b[39m\u001b[38;5;124m\"\u001b[39m])\n\u001b[0;32m     16\u001b[0m     response \u001b[38;5;241m=\u001b[39m get_impressions(user, test_view)\n\u001b[0;32m     18\u001b[0m     pred_resp \u001b[38;5;241m=\u001b[39m prediction\u001b[38;5;241m.\u001b[39mjoin(response\u001b[38;5;241m.\u001b[39mset_index(\u001b[38;5;124m\"\u001b[39m\u001b[38;5;124mNews ID\u001b[39m\u001b[38;5;124m\"\u001b[39m), on\u001b[38;5;241m=\u001b[39m\u001b[38;5;124m\"\u001b[39m\u001b[38;5;124mNews ID\u001b[39m\u001b[38;5;124m\"\u001b[39m, how\u001b[38;5;241m=\u001b[39m\u001b[38;5;124m\"\u001b[39m\u001b[38;5;124minner\u001b[39m\u001b[38;5;124m\"\u001b[39m)\n",
      "File \u001b[1;32m~\\AppData\\Local\\Temp\\ipykernel_9640\\1771042877.py:20\u001b[0m, in \u001b[0;36mfind_top_k_articles\u001b[1;34m(user_id, item_vectors, k, news_id_to_index, behavior)\u001b[0m\n\u001b[0;32m     17\u001b[0m user_vector \u001b[38;5;241m=\u001b[39m create_user_vector(user_id, item_vectors, news_id_to_index, behavior)\n\u001b[0;32m     19\u001b[0m \u001b[38;5;66;03m# find the cosine similarity between the user vector and all item vectors\u001b[39;00m\n\u001b[1;32m---> 20\u001b[0m news_id_similarity \u001b[38;5;241m=\u001b[39m \u001b[43mfind_cosine_similarity\u001b[49m\u001b[43m(\u001b[49m\u001b[43muser_vector\u001b[49m\u001b[43m,\u001b[49m\u001b[43m \u001b[49m\u001b[43mitem_vectors\u001b[49m\u001b[43m,\u001b[49m\u001b[43m \u001b[49m\u001b[43mnews_id_to_index\u001b[49m\u001b[43m)\u001b[49m\n\u001b[0;32m     22\u001b[0m \u001b[38;5;66;03m# find the top k articles\u001b[39;00m\n\u001b[0;32m     23\u001b[0m top_k_articles \u001b[38;5;241m=\u001b[39m \u001b[38;5;28msorted\u001b[39m(news_id_similarity\u001b[38;5;241m.\u001b[39mitems(), key\u001b[38;5;241m=\u001b[39m\u001b[38;5;28;01mlambda\u001b[39;00m x: x[\u001b[38;5;241m1\u001b[39m], reverse\u001b[38;5;241m=\u001b[39m\u001b[38;5;28;01mTrue\u001b[39;00m)[:k]\n",
      "File \u001b[1;32m~\\AppData\\Local\\Temp\\ipykernel_9640\\1771042877.py:7\u001b[0m, in \u001b[0;36mfind_cosine_similarity\u001b[1;34m(user_vector, item_vectors, news_id_to_index)\u001b[0m\n\u001b[0;32m      4\u001b[0m \u001b[38;5;28;01mif\u001b[39;00m \u001b[38;5;129;01mnot\u001b[39;00m \u001b[38;5;28misinstance\u001b[39m(user_vector, csr_matrix):\n\u001b[0;32m      5\u001b[0m     user_vector \u001b[38;5;241m=\u001b[39m csr_matrix(user_vector)\n\u001b[1;32m----> 7\u001b[0m cosine_similarities \u001b[38;5;241m=\u001b[39m \u001b[43mcosine_similarity\u001b[49m\u001b[43m(\u001b[49m\u001b[43muser_vector\u001b[49m\u001b[43m,\u001b[49m\u001b[43m \u001b[49m\u001b[43mitem_vectors\u001b[49m\u001b[43m)\u001b[49m\u001b[38;5;241m.\u001b[39mflatten()\n\u001b[0;32m      9\u001b[0m \u001b[38;5;66;03m# Map the indices to NewsIDs\u001b[39;00m\n\u001b[0;32m     10\u001b[0m news_id_similarity \u001b[38;5;241m=\u001b[39m {news_id: cosine_similarities[idx] \u001b[38;5;28;01mfor\u001b[39;00m news_id, idx \u001b[38;5;129;01min\u001b[39;00m news_id_to_index\u001b[38;5;241m.\u001b[39mitems() \u001b[38;5;28;01mif\u001b[39;00m idx \u001b[38;5;241m<\u001b[39m \u001b[38;5;28mlen\u001b[39m(cosine_similarities)}\n",
      "File \u001b[1;32mc:\\Users\\Bruker\\Documents\\School\\sem9\\RecSysProject\\Recommender-Systems\\local\\Lib\\site-packages\\sklearn\\utils\\_param_validation.py:213\u001b[0m, in \u001b[0;36mvalidate_params.<locals>.decorator.<locals>.wrapper\u001b[1;34m(*args, **kwargs)\u001b[0m\n\u001b[0;32m    207\u001b[0m \u001b[38;5;28;01mtry\u001b[39;00m:\n\u001b[0;32m    208\u001b[0m     \u001b[38;5;28;01mwith\u001b[39;00m config_context(\n\u001b[0;32m    209\u001b[0m         skip_parameter_validation\u001b[38;5;241m=\u001b[39m(\n\u001b[0;32m    210\u001b[0m             prefer_skip_nested_validation \u001b[38;5;129;01mor\u001b[39;00m global_skip_validation\n\u001b[0;32m    211\u001b[0m         )\n\u001b[0;32m    212\u001b[0m     ):\n\u001b[1;32m--> 213\u001b[0m         \u001b[38;5;28;01mreturn\u001b[39;00m \u001b[43mfunc\u001b[49m\u001b[43m(\u001b[49m\u001b[38;5;241;43m*\u001b[39;49m\u001b[43margs\u001b[49m\u001b[43m,\u001b[49m\u001b[43m \u001b[49m\u001b[38;5;241;43m*\u001b[39;49m\u001b[38;5;241;43m*\u001b[39;49m\u001b[43mkwargs\u001b[49m\u001b[43m)\u001b[49m\n\u001b[0;32m    214\u001b[0m \u001b[38;5;28;01mexcept\u001b[39;00m InvalidParameterError \u001b[38;5;28;01mas\u001b[39;00m e:\n\u001b[0;32m    215\u001b[0m     \u001b[38;5;66;03m# When the function is just a wrapper around an estimator, we allow\u001b[39;00m\n\u001b[0;32m    216\u001b[0m     \u001b[38;5;66;03m# the function to delegate validation to the estimator, but we replace\u001b[39;00m\n\u001b[0;32m    217\u001b[0m     \u001b[38;5;66;03m# the name of the estimator by the name of the function in the error\u001b[39;00m\n\u001b[0;32m    218\u001b[0m     \u001b[38;5;66;03m# message to avoid confusion.\u001b[39;00m\n\u001b[0;32m    219\u001b[0m     msg \u001b[38;5;241m=\u001b[39m re\u001b[38;5;241m.\u001b[39msub(\n\u001b[0;32m    220\u001b[0m         \u001b[38;5;124mr\u001b[39m\u001b[38;5;124m\"\u001b[39m\u001b[38;5;124mparameter of \u001b[39m\u001b[38;5;124m\\\u001b[39m\u001b[38;5;124mw+ must be\u001b[39m\u001b[38;5;124m\"\u001b[39m,\n\u001b[0;32m    221\u001b[0m         \u001b[38;5;124mf\u001b[39m\u001b[38;5;124m\"\u001b[39m\u001b[38;5;124mparameter of \u001b[39m\u001b[38;5;132;01m{\u001b[39;00mfunc\u001b[38;5;241m.\u001b[39m\u001b[38;5;18m__qualname__\u001b[39m\u001b[38;5;132;01m}\u001b[39;00m\u001b[38;5;124m must be\u001b[39m\u001b[38;5;124m\"\u001b[39m,\n\u001b[0;32m    222\u001b[0m         \u001b[38;5;28mstr\u001b[39m(e),\n\u001b[0;32m    223\u001b[0m     )\n",
      "File \u001b[1;32mc:\\Users\\Bruker\\Documents\\School\\sem9\\RecSysProject\\Recommender-Systems\\local\\Lib\\site-packages\\sklearn\\metrics\\pairwise.py:1665\u001b[0m, in \u001b[0;36mcosine_similarity\u001b[1;34m(X, Y, dense_output)\u001b[0m\n\u001b[0;32m   1662\u001b[0m \u001b[38;5;28;01melse\u001b[39;00m:\n\u001b[0;32m   1663\u001b[0m     Y_normalized \u001b[38;5;241m=\u001b[39m normalize(Y, copy\u001b[38;5;241m=\u001b[39m\u001b[38;5;28;01mTrue\u001b[39;00m)\n\u001b[1;32m-> 1665\u001b[0m K \u001b[38;5;241m=\u001b[39m \u001b[43msafe_sparse_dot\u001b[49m\u001b[43m(\u001b[49m\u001b[43mX_normalized\u001b[49m\u001b[43m,\u001b[49m\u001b[43m \u001b[49m\u001b[43mY_normalized\u001b[49m\u001b[38;5;241;43m.\u001b[39;49m\u001b[43mT\u001b[49m\u001b[43m,\u001b[49m\u001b[43m \u001b[49m\u001b[43mdense_output\u001b[49m\u001b[38;5;241;43m=\u001b[39;49m\u001b[43mdense_output\u001b[49m\u001b[43m)\u001b[49m\n\u001b[0;32m   1667\u001b[0m \u001b[38;5;28;01mreturn\u001b[39;00m K\n",
      "File \u001b[1;32mc:\\Users\\Bruker\\Documents\\School\\sem9\\RecSysProject\\Recommender-Systems\\local\\Lib\\site-packages\\sklearn\\utils\\extmath.py:208\u001b[0m, in \u001b[0;36msafe_sparse_dot\u001b[1;34m(a, b, dense_output)\u001b[0m\n\u001b[0;32m    206\u001b[0m         ret \u001b[38;5;241m=\u001b[39m np\u001b[38;5;241m.\u001b[39mdot(a, b)\n\u001b[0;32m    207\u001b[0m \u001b[38;5;28;01melse\u001b[39;00m:\n\u001b[1;32m--> 208\u001b[0m     ret \u001b[38;5;241m=\u001b[39m \u001b[43ma\u001b[49m\u001b[43m \u001b[49m\u001b[38;5;241;43m@\u001b[39;49m\u001b[43m \u001b[49m\u001b[43mb\u001b[49m\n\u001b[0;32m    210\u001b[0m \u001b[38;5;28;01mif\u001b[39;00m (\n\u001b[0;32m    211\u001b[0m     sparse\u001b[38;5;241m.\u001b[39missparse(a)\n\u001b[0;32m    212\u001b[0m     \u001b[38;5;129;01mand\u001b[39;00m sparse\u001b[38;5;241m.\u001b[39missparse(b)\n\u001b[0;32m    213\u001b[0m     \u001b[38;5;129;01mand\u001b[39;00m dense_output\n\u001b[0;32m    214\u001b[0m     \u001b[38;5;129;01mand\u001b[39;00m \u001b[38;5;28mhasattr\u001b[39m(ret, \u001b[38;5;124m\"\u001b[39m\u001b[38;5;124mtoarray\u001b[39m\u001b[38;5;124m\"\u001b[39m)\n\u001b[0;32m    215\u001b[0m ):\n\u001b[0;32m    216\u001b[0m     \u001b[38;5;28;01mreturn\u001b[39;00m ret\u001b[38;5;241m.\u001b[39mtoarray()\n",
      "File \u001b[1;32mc:\\Users\\Bruker\\Documents\\School\\sem9\\RecSysProject\\Recommender-Systems\\local\\Lib\\site-packages\\scipy\\sparse\\_base.py:695\u001b[0m, in \u001b[0;36m_spbase.__matmul__\u001b[1;34m(self, other)\u001b[0m\n\u001b[0;32m    692\u001b[0m \u001b[38;5;28;01mif\u001b[39;00m isscalarlike(other):\n\u001b[0;32m    693\u001b[0m     \u001b[38;5;28;01mraise\u001b[39;00m \u001b[38;5;167;01mValueError\u001b[39;00m(\u001b[38;5;124m\"\u001b[39m\u001b[38;5;124mScalar operands are not allowed, \u001b[39m\u001b[38;5;124m\"\u001b[39m\n\u001b[0;32m    694\u001b[0m                      \u001b[38;5;124m\"\u001b[39m\u001b[38;5;124muse \u001b[39m\u001b[38;5;124m'\u001b[39m\u001b[38;5;124m*\u001b[39m\u001b[38;5;124m'\u001b[39m\u001b[38;5;124m instead\u001b[39m\u001b[38;5;124m\"\u001b[39m)\n\u001b[1;32m--> 695\u001b[0m \u001b[38;5;28;01mreturn\u001b[39;00m \u001b[38;5;28;43mself\u001b[39;49m\u001b[38;5;241;43m.\u001b[39;49m\u001b[43m_matmul_dispatch\u001b[49m\u001b[43m(\u001b[49m\u001b[43mother\u001b[49m\u001b[43m)\u001b[49m\n",
      "File \u001b[1;32mc:\\Users\\Bruker\\Documents\\School\\sem9\\RecSysProject\\Recommender-Systems\\local\\Lib\\site-packages\\scipy\\sparse\\_base.py:606\u001b[0m, in \u001b[0;36m_spbase._matmul_dispatch\u001b[1;34m(self, other)\u001b[0m\n\u001b[0;32m    604\u001b[0m     \u001b[38;5;28;01mif\u001b[39;00m other\u001b[38;5;241m.\u001b[39mndim \u001b[38;5;241m==\u001b[39m \u001b[38;5;241m1\u001b[39m:\n\u001b[0;32m    605\u001b[0m         \u001b[38;5;28;01mraise\u001b[39;00m \u001b[38;5;167;01mValueError\u001b[39;00m(\u001b[38;5;124m'\u001b[39m\u001b[38;5;124mCannot yet multiply a 1d sparse array\u001b[39m\u001b[38;5;124m'\u001b[39m)\n\u001b[1;32m--> 606\u001b[0m     \u001b[38;5;28;01mreturn\u001b[39;00m \u001b[38;5;28;43mself\u001b[39;49m\u001b[38;5;241;43m.\u001b[39;49m\u001b[43m_matmul_sparse\u001b[49m\u001b[43m(\u001b[49m\u001b[43mother\u001b[49m\u001b[43m)\u001b[49m\n\u001b[0;32m    608\u001b[0m \u001b[38;5;66;03m# If it's a list or whatever, treat it like an array\u001b[39;00m\n\u001b[0;32m    609\u001b[0m other_a \u001b[38;5;241m=\u001b[39m np\u001b[38;5;241m.\u001b[39masanyarray(other)\n",
      "File \u001b[1;32mc:\\Users\\Bruker\\Documents\\School\\sem9\\RecSysProject\\Recommender-Systems\\local\\Lib\\site-packages\\scipy\\sparse\\_compressed.py:515\u001b[0m, in \u001b[0;36m_cs_matrix._matmul_sparse\u001b[1;34m(self, other)\u001b[0m\n\u001b[0;32m    511\u001b[0m idx_dtype \u001b[38;5;241m=\u001b[39m \u001b[38;5;28mself\u001b[39m\u001b[38;5;241m.\u001b[39m_get_index_dtype((\u001b[38;5;28mself\u001b[39m\u001b[38;5;241m.\u001b[39mindptr, \u001b[38;5;28mself\u001b[39m\u001b[38;5;241m.\u001b[39mindices,\n\u001b[0;32m    512\u001b[0m                              other\u001b[38;5;241m.\u001b[39mindptr, other\u001b[38;5;241m.\u001b[39mindices))\n\u001b[0;32m    514\u001b[0m fn \u001b[38;5;241m=\u001b[39m \u001b[38;5;28mgetattr\u001b[39m(_sparsetools, \u001b[38;5;28mself\u001b[39m\u001b[38;5;241m.\u001b[39mformat \u001b[38;5;241m+\u001b[39m \u001b[38;5;124m'\u001b[39m\u001b[38;5;124m_matmat_maxnnz\u001b[39m\u001b[38;5;124m'\u001b[39m)\n\u001b[1;32m--> 515\u001b[0m nnz \u001b[38;5;241m=\u001b[39m \u001b[43mfn\u001b[49m\u001b[43m(\u001b[49m\u001b[43mM\u001b[49m\u001b[43m,\u001b[49m\u001b[43m \u001b[49m\u001b[43mN\u001b[49m\u001b[43m,\u001b[49m\n\u001b[0;32m    516\u001b[0m \u001b[43m         \u001b[49m\u001b[43mnp\u001b[49m\u001b[38;5;241;43m.\u001b[39;49m\u001b[43masarray\u001b[49m\u001b[43m(\u001b[49m\u001b[38;5;28;43mself\u001b[39;49m\u001b[38;5;241;43m.\u001b[39;49m\u001b[43mindptr\u001b[49m\u001b[43m,\u001b[49m\u001b[43m \u001b[49m\u001b[43mdtype\u001b[49m\u001b[38;5;241;43m=\u001b[39;49m\u001b[43midx_dtype\u001b[49m\u001b[43m)\u001b[49m\u001b[43m,\u001b[49m\n\u001b[0;32m    517\u001b[0m \u001b[43m         \u001b[49m\u001b[43mnp\u001b[49m\u001b[38;5;241;43m.\u001b[39;49m\u001b[43masarray\u001b[49m\u001b[43m(\u001b[49m\u001b[38;5;28;43mself\u001b[39;49m\u001b[38;5;241;43m.\u001b[39;49m\u001b[43mindices\u001b[49m\u001b[43m,\u001b[49m\u001b[43m \u001b[49m\u001b[43mdtype\u001b[49m\u001b[38;5;241;43m=\u001b[39;49m\u001b[43midx_dtype\u001b[49m\u001b[43m)\u001b[49m\u001b[43m,\u001b[49m\n\u001b[0;32m    518\u001b[0m \u001b[43m         \u001b[49m\u001b[43mnp\u001b[49m\u001b[38;5;241;43m.\u001b[39;49m\u001b[43masarray\u001b[49m\u001b[43m(\u001b[49m\u001b[43mother\u001b[49m\u001b[38;5;241;43m.\u001b[39;49m\u001b[43mindptr\u001b[49m\u001b[43m,\u001b[49m\u001b[43m \u001b[49m\u001b[43mdtype\u001b[49m\u001b[38;5;241;43m=\u001b[39;49m\u001b[43midx_dtype\u001b[49m\u001b[43m)\u001b[49m\u001b[43m,\u001b[49m\n\u001b[0;32m    519\u001b[0m \u001b[43m         \u001b[49m\u001b[43mnp\u001b[49m\u001b[38;5;241;43m.\u001b[39;49m\u001b[43masarray\u001b[49m\u001b[43m(\u001b[49m\u001b[43mother\u001b[49m\u001b[38;5;241;43m.\u001b[39;49m\u001b[43mindices\u001b[49m\u001b[43m,\u001b[49m\u001b[43m \u001b[49m\u001b[43mdtype\u001b[49m\u001b[38;5;241;43m=\u001b[39;49m\u001b[43midx_dtype\u001b[49m\u001b[43m)\u001b[49m\u001b[43m)\u001b[49m\n\u001b[0;32m    521\u001b[0m idx_dtype \u001b[38;5;241m=\u001b[39m \u001b[38;5;28mself\u001b[39m\u001b[38;5;241m.\u001b[39m_get_index_dtype((\u001b[38;5;28mself\u001b[39m\u001b[38;5;241m.\u001b[39mindptr, \u001b[38;5;28mself\u001b[39m\u001b[38;5;241m.\u001b[39mindices,\n\u001b[0;32m    522\u001b[0m                              other\u001b[38;5;241m.\u001b[39mindptr, other\u001b[38;5;241m.\u001b[39mindices),\n\u001b[0;32m    523\u001b[0m                             maxval\u001b[38;5;241m=\u001b[39mnnz)\n\u001b[0;32m    525\u001b[0m indptr \u001b[38;5;241m=\u001b[39m np\u001b[38;5;241m.\u001b[39mempty(major_axis \u001b[38;5;241m+\u001b[39m \u001b[38;5;241m1\u001b[39m, dtype\u001b[38;5;241m=\u001b[39midx_dtype)\n",
      "\u001b[1;31mKeyboardInterrupt\u001b[0m: "
     ]
    }
   ],
   "source": [
    "# Loop that runs the sliding window\n",
    "\n",
    "while t0 <= tn-dt:\n",
    "    # Splitting into train and test views\n",
    "    tsplit = t0 + dt*split_ratio\n",
    "    t1 = t0 + dt\n",
    "\n",
    "    train_view = get_view(behavior, t0, tsplit)\n",
    "    test_view = get_view(behavior, tsplit, t1)\n",
    "\n",
    "    # Finding users that have impressions in both the test and train view\n",
    "    users = get_users(test_view, train_view)\n",
    "\n",
    "    for user in users:\n",
    "        prediction = pd.DataFrame(find_top_k_articles(user, X_j, 600000, news_id_to_index, train_view), columns=[\"News ID\", \"Score\"])\n",
    "        response = get_impressions(user, test_view)\n",
    "        \n",
    "        pred_resp = prediction.join(response.set_index(\"News ID\"), on=\"News ID\", how=\"inner\")\n",
    "\n",
    "        try:\n",
    "            evaluation = ndcg_score(np.array([pred_resp[\"Response\"].to_numpy()]), np.array([pred_resp[\"Score\"].to_numpy()]))\n",
    "            evaluations_ndcg.append(evaluation)\n",
    "            k_slice = pred_resp[\"Response\"].iloc[:k]\n",
    "            evaluation = k_slice.sum()/min(len(k_slice), k)\n",
    "            evaluations_pak.append(evaluation)\n",
    "            #print(\"Predictions for user \" + user + \" evaluated!\")\n",
    "        except:\n",
    "            #print(\"Eval failed\")\n",
    "            pass\n",
    "        \n",
    "\n",
    "    print(\"moving timeframe\")\n",
    "    t0 = tsplit"
   ]
  },
  {
   "cell_type": "code",
   "execution_count": null,
   "metadata": {},
   "outputs": [],
   "source": [
    "print(\"nDCG:\")\n",
    "print(sum(evaluations_ndcg)/len(evaluations_ndcg))\n",
    "print(\"Precision at K:\")\n",
    "print(sum(evaluations_pak)/len(evaluations_pak))\n"
   ]
  },
  {
   "cell_type": "markdown",
   "metadata": {},
   "source": [
    "#### Evaluate Collaborative Filtering Model"
   ]
  },
  {
   "cell_type": "code",
   "execution_count": null,
   "metadata": {},
   "outputs": [],
   "source": [
    "# Importing functions from item_collab_filtering.ipynb\n",
    "# Comment out function calls (except for the call to initiate a spark engine) in item_collab_filtering.ipynb before running this field\n",
    "%run item_collab_filtering.ipynb"
   ]
  },
  {
   "cell_type": "code",
   "execution_count": null,
   "metadata": {},
   "outputs": [],
   "source": [
    "evaluations_ndcg = []\n",
    "evaluations_pak = []\n",
    "t0 = float(behavior[\"Timestamp\"][0])\n",
    "tn = float(behavior[\"Timestamp\"][len(behavior[\"Timestamp\"])-1])\n",
    "split_ratio = 85/100\n",
    "dt = (tn-t0)/5\n",
    "k = 5"
   ]
  },
  {
   "cell_type": "code",
   "execution_count": null,
   "metadata": {},
   "outputs": [],
   "source": [
    "# Loop that runs the sliding window\n",
    "\n",
    "while t0 <= tn-dt:\n",
    "    # Splitting into train and test views\n",
    "    tsplit = t0 + dt*split_ratio\n",
    "    t1 = t0 + dt\n",
    "\n",
    "    train_view = get_view(behavior, t0, tsplit)\n",
    "    test_view = get_view(behavior, tsplit, t1)\n",
    "\n",
    "    # Finding users that have impressions in both the test and train view\n",
    "    users = get_users(test_view, train_view)\n",
    "\n",
    "    # Train the model\n",
    "    model = train_collaborative_filtering_model(train_view)\n",
    "\n",
    "    # Can swap which for loop you iterate through, if iterating over all users takes too long\n",
    "    #for user in users[:500]:\n",
    "    for user in users:\n",
    "        prediction = get_top_n_recommendations(user, model, N=600000).toPandas()\n",
    "        response = get_impressions(user, test_view)\n",
    "        pred_resp = prediction.join(response.set_index(\"News ID\"), on=\"news_id\", how=\"inner\")\n",
    "        try:\n",
    "            evaluation = ndcg_score(np.array([pred_resp[\"Response\"].to_numpy()]), np.array([pred_resp[\"score\"].to_numpy()]))\n",
    "            evaluations_ndcg.append(evaluation)\n",
    "            k_slice = pred_resp[\"Response\"].iloc[:k]\n",
    "            evaluation = k_slice.sum()/min(len(k_slice), k)\n",
    "            evaluations_pak.append(evaluation)\n",
    "            #print(\"Predictions for user \" + user + \" evaluated!\")\n",
    "        except:\n",
    "            #print(\"Eval failed\")\n",
    "            pass\n",
    "\n",
    "    print(\"moving timeframe\")\n",
    "    t0 = tsplit"
   ]
  },
  {
   "cell_type": "code",
   "execution_count": null,
   "metadata": {},
   "outputs": [],
   "source": [
    "print(\"nDCG:\")\n",
    "print(sum(evaluations_ndcg)/len(evaluations_ndcg))\n",
    "print(\"Precision at K:\")\n",
    "print(sum(evaluations_pak)/len(evaluations_pak))"
   ]
  },
  {
   "cell_type": "markdown",
   "metadata": {},
   "source": [
    "#### Checking against randomized scores"
   ]
  },
  {
   "cell_type": "code",
   "execution_count": 9,
   "metadata": {},
   "outputs": [],
   "source": [
    "evaluations_ndcg = []\n",
    "evaluations_pak = []\n",
    "t0 = float(behavior[\"Timestamp\"][0])\n",
    "tn = float(behavior[\"Timestamp\"][len(behavior[\"Timestamp\"])-1])\n",
    "split_ratio = 85/100\n",
    "dt = (tn-t0)/5\n",
    "k = 5\n",
    "np.random.seed(42)"
   ]
  },
  {
   "cell_type": "code",
   "execution_count": 10,
   "metadata": {},
   "outputs": [
    {
     "name": "stdout",
     "output_type": "stream",
     "text": [
      "moving timeframe\n",
      "moving timeframe\n",
      "moving timeframe\n"
     ]
    },
    {
     "ename": "KeyboardInterrupt",
     "evalue": "",
     "output_type": "error",
     "traceback": [
      "\u001b[1;31m---------------------------------------------------------------------------\u001b[0m",
      "\u001b[1;31mKeyboardInterrupt\u001b[0m                         Traceback (most recent call last)",
      "Cell \u001b[1;32mIn[10], line 17\u001b[0m\n\u001b[0;32m     15\u001b[0m \u001b[38;5;66;03m# Get ranked recommendations, and evaluate them for all users\u001b[39;00m\n\u001b[0;32m     16\u001b[0m \u001b[38;5;28;01mfor\u001b[39;00m user \u001b[38;5;129;01min\u001b[39;00m users:\n\u001b[1;32m---> 17\u001b[0m     pred_resp \u001b[38;5;241m=\u001b[39m \u001b[43mget_impressions\u001b[49m\u001b[43m(\u001b[49m\u001b[43muser\u001b[49m\u001b[43m,\u001b[49m\u001b[43m \u001b[49m\u001b[43mtest_view\u001b[49m\u001b[43m)\u001b[49m\n\u001b[0;32m     18\u001b[0m     pred_resp[\u001b[38;5;124m\"\u001b[39m\u001b[38;5;124mScore\u001b[39m\u001b[38;5;124m\"\u001b[39m] \u001b[38;5;241m=\u001b[39m np\u001b[38;5;241m.\u001b[39mrandom\u001b[38;5;241m.\u001b[39mrandom(pred_resp[\u001b[38;5;124m\"\u001b[39m\u001b[38;5;124mResponse\u001b[39m\u001b[38;5;124m\"\u001b[39m]\u001b[38;5;241m.\u001b[39msize)\n\u001b[0;32m     19\u001b[0m     \u001b[38;5;28;01mtry\u001b[39;00m:\n",
      "Cell \u001b[1;32mIn[2], line 5\u001b[0m, in \u001b[0;36mget_impressions\u001b[1;34m(userID, behavior_view)\u001b[0m\n\u001b[0;32m      3\u001b[0m test \u001b[38;5;241m=\u001b[39m []\n\u001b[0;32m      4\u001b[0m \u001b[38;5;28;01mfor\u001b[39;00m index, row \u001b[38;5;129;01min\u001b[39;00m behavior_view\u001b[38;5;241m.\u001b[39miterrows():\n\u001b[1;32m----> 5\u001b[0m     \u001b[38;5;28;01mif\u001b[39;00m \u001b[43mrow\u001b[49m\u001b[43m[\u001b[49m\u001b[38;5;124;43m\"\u001b[39;49m\u001b[38;5;124;43mUser ID\u001b[39;49m\u001b[38;5;124;43m\"\u001b[39;49m\u001b[43m]\u001b[49m \u001b[38;5;241m==\u001b[39m userID:\n\u001b[0;32m      6\u001b[0m         \u001b[38;5;28;01mfor\u001b[39;00m impression \u001b[38;5;129;01min\u001b[39;00m row[\u001b[38;5;124m\"\u001b[39m\u001b[38;5;124mImpressions\u001b[39m\u001b[38;5;124m\"\u001b[39m]\u001b[38;5;241m.\u001b[39msplit(\u001b[38;5;124m\"\u001b[39m\u001b[38;5;124m \u001b[39m\u001b[38;5;124m\"\u001b[39m):\n\u001b[0;32m      7\u001b[0m             imp \u001b[38;5;241m=\u001b[39m impression\u001b[38;5;241m.\u001b[39msplit(\u001b[38;5;124m\"\u001b[39m\u001b[38;5;124m-\u001b[39m\u001b[38;5;124m\"\u001b[39m)\n",
      "File \u001b[1;32mc:\\Users\\Bruker\\Documents\\School\\sem9\\RecSysProject\\Recommender-Systems\\local\\Lib\\site-packages\\pandas\\core\\series.py:1096\u001b[0m, in \u001b[0;36mSeries.__getitem__\u001b[1;34m(self, key)\u001b[0m\n\u001b[0;32m   1095\u001b[0m \u001b[38;5;28;01mdef\u001b[39;00m \u001b[38;5;21m__getitem__\u001b[39m(\u001b[38;5;28mself\u001b[39m, key):\n\u001b[1;32m-> 1096\u001b[0m     \u001b[43mcheck_dict_or_set_indexers\u001b[49m\u001b[43m(\u001b[49m\u001b[43mkey\u001b[49m\u001b[43m)\u001b[49m\n\u001b[0;32m   1097\u001b[0m     key \u001b[38;5;241m=\u001b[39m com\u001b[38;5;241m.\u001b[39mapply_if_callable(key, \u001b[38;5;28mself\u001b[39m)\n\u001b[0;32m   1099\u001b[0m     \u001b[38;5;28;01mif\u001b[39;00m key \u001b[38;5;129;01mis\u001b[39;00m \u001b[38;5;28mEllipsis\u001b[39m:\n",
      "File \u001b[1;32mc:\\Users\\Bruker\\Documents\\School\\sem9\\RecSysProject\\Recommender-Systems\\local\\Lib\\site-packages\\pandas\\core\\indexing.py:2765\u001b[0m, in \u001b[0;36mcheck_dict_or_set_indexers\u001b[1;34m(key)\u001b[0m\n\u001b[0;32m   2753\u001b[0m \u001b[38;5;250m    \u001b[39m\u001b[38;5;124;03m\"\"\"\u001b[39;00m\n\u001b[0;32m   2754\u001b[0m \u001b[38;5;124;03m    Returns\u001b[39;00m\n\u001b[0;32m   2755\u001b[0m \u001b[38;5;124;03m    -------\u001b[39;00m\n\u001b[0;32m   2756\u001b[0m \u001b[38;5;124;03m    bool\u001b[39;00m\n\u001b[0;32m   2757\u001b[0m \u001b[38;5;124;03m    \"\"\"\u001b[39;00m\n\u001b[0;32m   2758\u001b[0m     \u001b[38;5;28;01mreturn\u001b[39;00m (\n\u001b[0;32m   2759\u001b[0m         obj\u001b[38;5;241m.\u001b[39mstart \u001b[38;5;129;01mis\u001b[39;00m \u001b[38;5;129;01mnot\u001b[39;00m \u001b[38;5;28;01mNone\u001b[39;00m\n\u001b[0;32m   2760\u001b[0m         \u001b[38;5;129;01mor\u001b[39;00m obj\u001b[38;5;241m.\u001b[39mstop \u001b[38;5;129;01mis\u001b[39;00m \u001b[38;5;129;01mnot\u001b[39;00m \u001b[38;5;28;01mNone\u001b[39;00m\n\u001b[0;32m   2761\u001b[0m         \u001b[38;5;129;01mor\u001b[39;00m (obj\u001b[38;5;241m.\u001b[39mstep \u001b[38;5;129;01mis\u001b[39;00m \u001b[38;5;129;01mnot\u001b[39;00m \u001b[38;5;28;01mNone\u001b[39;00m \u001b[38;5;129;01mand\u001b[39;00m obj\u001b[38;5;241m.\u001b[39mstep \u001b[38;5;241m!=\u001b[39m \u001b[38;5;241m1\u001b[39m)\n\u001b[0;32m   2762\u001b[0m     )\n\u001b[1;32m-> 2765\u001b[0m \u001b[38;5;28;01mdef\u001b[39;00m \u001b[38;5;21mcheck_dict_or_set_indexers\u001b[39m(key) \u001b[38;5;241m-\u001b[39m\u001b[38;5;241m>\u001b[39m \u001b[38;5;28;01mNone\u001b[39;00m:\n\u001b[0;32m   2766\u001b[0m \u001b[38;5;250m    \u001b[39m\u001b[38;5;124;03m\"\"\"\u001b[39;00m\n\u001b[0;32m   2767\u001b[0m \u001b[38;5;124;03m    Check if the indexer is or contains a dict or set, which is no longer allowed.\u001b[39;00m\n\u001b[0;32m   2768\u001b[0m \u001b[38;5;124;03m    \"\"\"\u001b[39;00m\n\u001b[0;32m   2769\u001b[0m     \u001b[38;5;28;01mif\u001b[39;00m (\n\u001b[0;32m   2770\u001b[0m         \u001b[38;5;28misinstance\u001b[39m(key, \u001b[38;5;28mset\u001b[39m)\n\u001b[0;32m   2771\u001b[0m         \u001b[38;5;129;01mor\u001b[39;00m \u001b[38;5;28misinstance\u001b[39m(key, \u001b[38;5;28mtuple\u001b[39m)\n\u001b[0;32m   2772\u001b[0m         \u001b[38;5;129;01mand\u001b[39;00m \u001b[38;5;28many\u001b[39m(\u001b[38;5;28misinstance\u001b[39m(x, \u001b[38;5;28mset\u001b[39m) \u001b[38;5;28;01mfor\u001b[39;00m x \u001b[38;5;129;01min\u001b[39;00m key)\n\u001b[0;32m   2773\u001b[0m     ):\n",
      "\u001b[1;31mKeyboardInterrupt\u001b[0m: "
     ]
    }
   ],
   "source": [
    "# Loop that runs the sliding window\n",
    "\n",
    "while t0 <= tn-dt:\n",
    "    # Splitting into train and test views\n",
    "    tsplit = t0 + dt*split_ratio\n",
    "    t1 = t0 + dt\n",
    "\n",
    "    train_view = get_view(behavior, t0, tsplit)\n",
    "    test_view = get_view(behavior, tsplit, t1)\n",
    "\n",
    "    # Finding users that have impressions in both the test and train view\n",
    "    users = get_users(test_view, train_view)\n",
    "\n",
    "\n",
    "    # Get ranked recommendations, and evaluate them for all users\n",
    "    for user in users:\n",
    "        pred_resp = get_impressions(user, test_view)\n",
    "        pred_resp[\"Score\"] = np.random.random(pred_resp[\"Response\"].size)\n",
    "        try:\n",
    "            evaluation = ndcg_score(np.array([pred_resp[\"Response\"].to_numpy()]), np.array([pred_resp[\"Score\"].to_numpy()]))\n",
    "            evaluations_ndcg.append(evaluation)\n",
    "            k_slice = pred_resp[\"Response\"].iloc[:k]\n",
    "            evaluation = k_slice.sum()/min(len(k_slice), k)\n",
    "            evaluations_pak.append(evaluation)\n",
    "            #print(\"Predictions for user \" + user + \" evaluated!\")\n",
    "        except:\n",
    "            #print(\"Eval failed\")\n",
    "            pass\n",
    "\n",
    "    print(\"moving timeframe\")\n",
    "    t0 = tsplit"
   ]
  },
  {
   "cell_type": "code",
   "execution_count": null,
   "metadata": {},
   "outputs": [],
   "source": [
    "print(\"nDCG:\")\n",
    "print(sum(evaluations_ndcg)/len(evaluations_ndcg))\n",
    "print(\"Precision at K:\")\n",
    "print(sum(evaluations_pak)/len(evaluations_pak))"
   ]
  },
  {
   "cell_type": "markdown",
   "metadata": {},
   "source": [
    "#### Tuning Sliding Window"
   ]
  },
  {
   "cell_type": "code",
   "execution_count": 24,
   "metadata": {},
   "outputs": [],
   "source": [
    "t0 = float(behavior[\"Timestamp\"][0])\n",
    "tn = float(behavior[\"Timestamp\"][len(behavior[\"Timestamp\"])-1])\n",
    "split_ratios = [i/100 for i in range(50,100)]\n",
    "dts = [(tn-t0)/n for n in range(5,10)]"
   ]
  },
  {
   "cell_type": "code",
   "execution_count": 25,
   "metadata": {},
   "outputs": [],
   "source": [
    "counts = []\n",
    "sizes = []\n",
    "for dt in dts:\n",
    "    aggregate_counts = []\n",
    "    aggregate_sizes = []\n",
    "    for split_ratio in split_ratios:\n",
    "        user_counts = []\n",
    "        train_sizes = []\n",
    "        start_time = t0\n",
    "        while start_time <= tn-dt:\n",
    "            tsplit = start_time + dt*split_ratio\n",
    "            t1 = start_time + dt\n",
    "            train_view = get_view(behavior, start_time, tsplit)\n",
    "            test_view = get_view(behavior, tsplit, t1)\n",
    "\n",
    "            user_count = len(get_users(train_view, test_view))\n",
    "            user_counts.append(user_count)\n",
    "\n",
    "            train_size = len(train_view)\n",
    "            train_sizes.append(train_size)\n",
    "\n",
    "            start_time = tsplit\n",
    "        aggregate_counts.append(sum(user_counts)/len(user_counts))\n",
    "        aggregate_sizes.append(sum(train_sizes)/len(train_sizes))\n",
    "    counts.append(aggregate_counts)\n",
    "    sizes.append(aggregate_sizes)\n",
    "\n"
   ]
  },
  {
   "cell_type": "code",
   "execution_count": 26,
   "metadata": {},
   "outputs": [
    {
     "name": "stdout",
     "output_type": "stream",
     "text": [
      "[[847.7777777777778, 964.0, 940.125, 897.5, 896.75, 880.75, 804.875, 867.75, 1056.4285714285713, 1045.857142857143, 1008.1428571428571, 992.2857142857143, 968.4285714285714, 912.4285714285714, 817.1428571428571, 671.0, 628.8571428571429, 735.0, 750.5, 746.3333333333334, 692.8333333333334, 723.6666666666666, 770.8333333333334, 791.1666666666666, 745.8333333333334, 686.5, 628.5, 563.6666666666666, 438.5, 426.8333333333333, 446.3333333333333, 552.6, 575.0, 592.0, 599.4, 605.0, 597.0, 579.4, 530.6, 498.2, 467.8, 462.2, 464.4, 451.8, 434.4, 371.2, 330.8, 265.2, 100.8, 50.2], [758.5454545454545, 806.6, 778.0, 797.5, 809.1, 801.2, 880.2222222222222, 834.8888888888889, 770.3333333333334, 717.7777777777778, 721.2222222222222, 727.8888888888889, 702.8888888888889, 729.5, 710.875, 687.625, 641.875, 566.25, 604.0, 649.875, 672.875, 692.25, 805.2857142857143, 844.4285714285714, 871.1428571428571, 837.8571428571429, 765.8571428571429, 654.0, 516.5714285714286, 463.2857142857143, 442.85714285714283, 413.2857142857143, 387.0, 370.14285714285717, 348.3333333333333, 343.6666666666667, 350.0, 353.8333333333333, 348.8333333333333, 335.0, 331.3333333333333, 331.5, 319.3333333333333, 232.66666666666666, 118.83333333333333, 108.83333333333333, 90.5, 78.16666666666667, 63.833333333333336, 35.0], [640.6923076923077, 704.25, 704.4166666666666, 692.5833333333334, 652.9166666666666, 667.7272727272727, 688.4545454545455, 671.1818181818181, 641.2727272727273, 596.5454545454545, 581.8181818181819, 610.6, 634.8, 670.5, 705.6, 702.9, 674.5, 692.8888888888889, 610.2222222222222, 569.0, 561.8888888888889, 555.3333333333334, 539.5555555555555, 516.6666666666666, 507.6666666666667, 515.2222222222222, 536.5, 471.5, 389.125, 370.125, 376.875, 368.75, 359.5, 348.875, 348.125, 389.375, 449.2857142857143, 461.14285714285717, 462.85714285714283, 438.57142857142856, 375.42857142857144, 258.85714285714283, 208.42857142857142, 190.42857142857142, 171.85714285714286, 152.28571428571428, 134.42857142857142, 112.85714285714286, 51.285714285714285, 20.714285714285715], [575.3333333333334, 602.7857142857143, 575.4285714285714, 580.7142857142857, 610.3076923076923, 588.5384615384615, 547.3846153846154, 522.3076923076923, 566.3846153846154, 636.8333333333334, 631.0, 603.0, 557.3333333333334, 521.3333333333334, 565.8181818181819, 562.2727272727273, 542.2727272727273, 490.3636363636364, 455.27272727272725, 421.3636363636364, 441.0, 452.2, 466.0, 485.4, 510.3, 539.4, 510.0, 462.2, 447.8888888888889, 439.0, 411.22222222222223, 395.77777777777777, 367.55555555555554, 332.55555555555554, 296.55555555555554, 284.55555555555554, 299.77777777777777, 311.55555555555554, 299.25, 218.625, 179.375, 180.375, 178.375, 165.5, 147.875, 116.5, 76.0, 68.5, 52.25, 26.125], [539.5625, 527.875, 518.0625, 494.4375, 497.46666666666664, 521.8666666666667, 529.6, 512.5333333333333, 513.5714285714286, 482.92857142857144, 486.07142857142856, 483.85714285714283, 484.7692307692308, 436.9230769230769, 399.0769230769231, 425.2307692307692, 457.2307692307692, 531.8333333333334, 530.75, 503.4166666666667, 451.0, 425.5833333333333, 413.0, 446.27272727272725, 435.1818181818182, 427.54545454545456, 386.90909090909093, 342.90909090909093, 287.27272727272725, 261.54545454545456, 272.54545454545456, 277.6, 285.7, 303.6, 321.6, 323.9, 323.1, 287.8, 228.8, 228.66666666666666, 216.44444444444446, 213.88888888888889, 194.33333333333334, 171.11111111111111, 129.66666666666666, 97.88888888888889, 78.77777777777777, 67.44444444444444, 47.111111111111114, 25.0]]\n",
      "[[8514.111111111111, 9578.375, 9578.375, 9578.375, 9578.375, 9578.375, 9578.375, 9578.375, 10946.714285714286, 10946.714285714286, 10946.714285714286, 10946.714285714286, 10946.714285714286, 10946.714285714286, 10946.714285714286, 10946.714285714286, 10946.714285714286, 12771.166666666666, 12771.166666666666, 12771.166666666666, 12771.166666666666, 12771.166666666666, 12771.166666666666, 12771.166666666666, 12771.166666666666, 12771.166666666666, 12771.166666666666, 12771.166666666666, 12771.166666666666, 12771.166666666666, 12771.166666666666, 15325.4, 15325.4, 15325.4, 15325.4, 15325.4, 15325.4, 15325.4, 15325.4, 15325.4, 15325.4, 15325.4, 15325.4, 15325.4, 15325.4, 15325.4, 15325.4, 15536.6, 15830.0, 16107.8], [6966.090909090909, 7662.7, 7662.7, 7662.7, 7662.7, 7662.7, 8514.111111111111, 8514.111111111111, 8514.111111111111, 8514.111111111111, 8514.111111111111, 8514.111111111111, 8514.111111111111, 9578.375, 9578.375, 9578.375, 9578.375, 9578.375, 9578.375, 9578.375, 9578.375, 9578.375, 10946.714285714286, 10946.714285714286, 10946.714285714286, 10946.714285714286, 10946.714285714286, 10946.714285714286, 10946.714285714286, 10946.714285714286, 10946.714285714286, 10946.714285714286, 10946.714285714286, 11061.57142857143, 12771.166666666666, 12771.166666666666, 12771.166666666666, 12771.166666666666, 12771.166666666666, 12771.166666666666, 12771.166666666666, 12771.166666666666, 12771.166666666666, 12771.166666666666, 12771.166666666666, 12771.166666666666, 12771.166666666666, 12947.166666666666, 13191.666666666666, 13423.166666666666], [5894.384615384615, 6385.583333333333, 6385.583333333333, 6385.583333333333, 6385.583333333333, 6966.090909090909, 6966.090909090909, 6966.090909090909, 6966.090909090909, 6966.090909090909, 6966.090909090909, 7662.7, 7662.7, 7662.7, 7662.7, 7662.7, 7662.7, 8514.111111111111, 8514.111111111111, 8514.111111111111, 8514.111111111111, 8514.111111111111, 8514.111111111111, 8514.111111111111, 8514.111111111111, 8532.777777777777, 9578.375, 9578.375, 9578.375, 9578.375, 9578.375, 9578.375, 9578.375, 9578.375, 9578.375, 9736.25, 10946.714285714286, 10946.714285714286, 10946.714285714286, 10946.714285714286, 10946.714285714286, 10946.714285714286, 10946.714285714286, 10946.714285714286, 10946.714285714286, 10946.714285714286, 10946.714285714286, 11097.57142857143, 11307.142857142857, 11505.57142857143], [5108.466666666666, 5473.357142857143, 5473.357142857143, 5473.357142857143, 5894.384615384615, 5894.384615384615, 5894.384615384615, 5894.384615384615, 5894.384615384615, 6385.583333333333, 6385.583333333333, 6385.583333333333, 6385.583333333333, 6385.583333333333, 6966.090909090909, 6966.090909090909, 6966.090909090909, 6966.090909090909, 6966.090909090909, 6966.090909090909, 7662.7, 7662.7, 7662.7, 7662.7, 7662.7, 7662.7, 7662.7, 7662.7, 8514.111111111111, 8514.111111111111, 8514.111111111111, 8514.111111111111, 8514.111111111111, 8514.111111111111, 8514.111111111111, 8514.111111111111, 8588.666666666666, 8776.333333333334, 9578.375, 9578.375, 9578.375, 9578.375, 9578.375, 9578.375, 9578.375, 9578.375, 9578.375, 9710.375, 9893.75, 10067.375], [4789.1875, 4789.1875, 4789.1875, 4789.1875, 5108.466666666666, 5108.466666666666, 5108.466666666666, 5108.466666666666, 5473.357142857143, 5473.357142857143, 5473.357142857143, 5473.357142857143, 5894.384615384615, 5894.384615384615, 5894.384615384615, 5894.384615384615, 5894.384615384615, 6385.583333333333, 6385.583333333333, 6385.583333333333, 6385.583333333333, 6385.583333333333, 6385.583333333333, 6966.090909090909, 6966.090909090909, 6966.090909090909, 6966.090909090909, 6966.090909090909, 6966.090909090909, 6999.636363636364, 7168.818181818182, 7662.7, 7662.7, 7662.7, 7662.7, 7662.7, 7662.7, 7716.2, 7885.7, 8514.111111111111, 8514.111111111111, 8514.111111111111, 8514.111111111111, 8514.111111111111, 8514.111111111111, 8514.111111111111, 8514.111111111111, 8631.444444444445, 8794.444444444445, 8948.777777777777]]\n",
      "[847.7777777777778, 964.0, 940.125, 897.5, 896.75, 880.75, 804.875, 867.75, 1056.4285714285713, 1045.857142857143, 1008.1428571428571, 992.2857142857143, 968.4285714285714, 912.4285714285714, 817.1428571428571, 671.0, 628.8571428571429, 735.0, 750.5, 746.3333333333334, 692.8333333333334, 723.6666666666666, 770.8333333333334, 791.1666666666666, 745.8333333333334, 686.5, 628.5, 563.6666666666666, 438.5, 426.8333333333333, 446.3333333333333, 552.6, 575.0, 592.0, 599.4, 605.0, 597.0, 579.4, 530.6, 498.2, 467.8, 462.2, 464.4, 451.8, 434.4, 371.2, 330.8, 265.2, 100.8, 50.2]\n"
     ]
    }
   ],
   "source": [
    "print(counts)\n",
    "print(sizes)"
   ]
  },
  {
   "cell_type": "code",
   "execution_count": 51,
   "metadata": {},
   "outputs": [
    {
     "data": {
      "image/png": "[encoded data removed]",
      "text/plain": [
       "<Figure size 640x480 with 1 Axes>"
      ]
     },
     "metadata": {},
     "output_type": "display_data"
    },
    {
     "data": {
      "image/png": "[encoded data removed]",
      "text/plain": [
       "<Figure size 640x480 with 1 Axes>"
      ]
     },
     "metadata": {},
     "output_type": "display_data"
    },
    {
     "name": "stdout",
     "output_type": "stream",
     "text": [
      "35\n"
     ]
    }
   ],
   "source": [
    "import matplotlib.pyplot as plt\n",
    "\n",
    "x = [i/100 for i in range(50,100)]\n",
    "plt.figure(0)\n",
    "plt.plot(x, counts[0])\n",
    "plt.ylabel(\"User count\")\n",
    "plt.xlabel(\"Split ratio\")\n",
    "plt.scatter((35+50)/100, counts[0][35])\n",
    "plt.show()\n",
    "\n",
    "plt.figure(1)\n",
    "plt.plot(x, sizes[0])\n",
    "plt.ylabel(\"Train set size\")\n",
    "plt.xlabel(\"Split ratio\")\n",
    "plt.show()\n",
    "\n",
    "print(counts[0].index(max(counts[0][80-50:90-50])))"
   ]
  }
 ],
 "metadata": {
  "kernelspec": {
   "display_name": "Python 3",
   "language": "python",
   "name": "python3"
  },
  "language_info": {
   "codemirror_mode": {
    "name": "ipython",
    "version": 3
   },
   "file_extension": ".py",
   "mimetype": "text/x-python",
   "name": "python",
   "nbconvert_exporter": "python",
   "pygments_lexer": "ipython3",
   "version": "3.12.3"
  }
 },
 "nbformat": 4,
 "nbformat_minor": 2
}
