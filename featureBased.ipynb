{
 "cells": [
  {
   "cell_type": "code",
   "execution_count": 98,
   "metadata": {},
   "outputs": [],
   "source": [
    "# import libraries and datasets\n",
    "\n",
    "import pandas as pd\n",
    "import numpy as np\n",
    "import matplotlib.pyplot as plt\n",
    "\n",
    "# load the dataset\n",
    "\n",
    "behavior = pd.read_csv(\"data/MINDsmall_dev/behaviors.tsv\", sep=\"\\t\", header=None, names=[\"Impression ID\", \"User ID\", \"Time\", \"History\", \"Impressions\"])\n",
    "news = pd.read_csv(\"data/MINDsmall_dev/news.tsv\", sep=\"\\t\", header=None, names=[\"News ID\", \"Category\", \"Subcategory\", \"Title\", \"Abstract\", \"URL\", \"Title Entities\", \"Abstract Entities\", \"Title Topics\", \"Abstract Topics\"])\n",
    "#TODO: read embeddings"
   ]
  },
  {
   "cell_type": "code",
   "execution_count": 101,
   "metadata": {},
   "outputs": [
    {
     "name": "stdout",
     "output_type": "stream",
     "text": [
      "{'news': 0.0923076923076923, 'newsus': 0.15384615384615385, 'travel': 0.023076923076923075, 'travelnews': 0.07692307692307693, 'finance': 0.0923076923076923, 'finance-companies': 0.3076923076923077, 'newsscienceandtechnology': 0.07692307692307693, 'music': 0.023076923076923075, 'music-celebrity': 0.07692307692307693, 'newscrime': 0.07692307692307693, 'weather': 0.023076923076923075, 'weathertopstories': 0.07692307692307693, 'health': 0.023076923076923075, 'fitness': 0.07692307692307693, 'lifestyle': 0.023076923076923075, 'lifestyleroyals': 0.07692307692307693}\n"
     ]
    }
   ],
   "source": [
    "#TODO: find tags of an article\n",
    "def article_tags(articleID):\n",
    "    tags = []\n",
    "    article = news.loc[news[\"News ID\"] == articleID]\n",
    "    tags.append(article[\"Category\"].values[0])\n",
    "    tags.append(article[\"Subcategory\"].values[0])\n",
    "    return tags[0], tags[1]\n",
    "\n",
    "#TODO: create user vector\n",
    "def create_x_i(userID):\n",
    "    x_i = {}\n",
    "\n",
    "    # Weights\n",
    "    w_c = 0.3  \n",
    "    w_s = 1.0\n",
    "\n",
    "    article_count = 0\n",
    "\n",
    "    for index, row in behavior.iterrows():\n",
    "        if row[\"User ID\"] == userID:\n",
    "            for articleID in row[\"History\"].split(\" \"):\n",
    "                article_count += 1\n",
    "\n",
    "                category, subcategory = article_tags(articleID)\n",
    "\n",
    "                if category in x_i:\n",
    "                    x_i[category] += w_c\n",
    "                else:\n",
    "                    x_i[category] = w_c\n",
    "                \n",
    "                if subcategory in x_i:\n",
    "                    x_i[subcategory] += w_s\n",
    "                else:\n",
    "                    x_i[subcategory] = w_s\n",
    "    \n",
    "    for trait, score in x_i.items():\n",
    "        x_i[trait] = score/article_count\n",
    "\n",
    "    return x_i\n",
    "\n",
    "exID = behavior[\"User ID\"].values[1]\n",
    "\n",
    "print(create_x_i(exID))\n",
    "                \n",
    "\n",
    "\n"
   ]
  }
 ],
 "metadata": {
  "kernelspec": {
   "display_name": "Python 3",
   "language": "python",
   "name": "python3"
  },
  "language_info": {
   "codemirror_mode": {
    "name": "ipython",
    "version": 3
   },
   "file_extension": ".py",
   "mimetype": "text/x-python",
   "name": "python",
   "nbconvert_exporter": "python",
   "pygments_lexer": "ipython3",
   "version": "3.7.4"
  }
 },
 "nbformat": 4,
 "nbformat_minor": 2
}
