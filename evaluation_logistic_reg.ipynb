{
 "cells": [
  {
   "cell_type": "code",
   "execution_count": 3,
   "metadata": {},
   "outputs": [],
   "source": [
    "import pandas as pd\n",
    "import numpy as np\n",
    "\n",
    "from scipy.sparse import save_npz, load_npz\n",
    "\n",
    "news_dev = pd.read_csv(\"data/MINDsmall_dev/news.tsv\", sep=\"\\t\", header=None, names=[\"News ID\", \"Category\", \"Subcategory\", \"Title\", \"Abstract\", \"URL\", \"Title Entities\", \"Abstract Entities\", \"Title Topics\", \"Abstract Topics\"])\n",
    "behavior_dev = pd.read_csv(\"data/MINDsmall_dev/behaviors.tsv\", sep=\"\\t\", header=None, names=[\"Impression ID\", \"User ID\", \"Time\", \"History\", \"Impressions\"])\n",
    "behavior_train = pd.read_csv(\"data/MINDsmall_train/behaviors.tsv\", sep=\"\\t\", header=None, names=[\"Impression ID\", \"User ID\", \"Time\", \"History\", \"Impressions\"])\n",
    "news_train = pd.read_csv(\"data/MINDsmall_train/news.tsv\", sep=\"\\t\", header=None, names=[\"News ID\", \"Category\", \"Subcategory\", \"Title\", \"Abstract\", \"URL\", \"Title Entities\", \"Abstract Entities\", \"Title Topics\", \"Abstract Topics\"])\n",
    "\n",
    "#get all news so that item vectors have the same dimension\n",
    "news_all = pd.concat([news_dev, news_train], ignore_index=True).drop_duplicates().reset_index(drop=True)"
   ]
  },
  {
   "cell_type": "code",
   "execution_count": 1,
   "metadata": {},
   "outputs": [],
   "source": [
    "%run feature_based.ipynb"
   ]
  },
  {
   "cell_type": "code",
   "execution_count": 4,
   "metadata": {},
   "outputs": [],
   "source": [
    "#Fill missing abstracts with placeholder\n",
    "news_dev['Abstract'].fillna('No abstract available', inplace=True)\n",
    "news_train['Abstract'].fillna('No abstract available', inplace=True)\n",
    "news_all['Abstract'].fillna('No abstract available', inplace=True)\n",
    "\n",
    "\n",
    "# if there are rows with no impressions, drop them\n",
    "behavior_dev = behavior_dev.dropna(subset=['Impressions']) # this looses some user information, could instead manually overwrite and fill in the missing values based on the typo combining the impression and history columns\n",
    "behavior_dev = behavior_train.dropna(subset=['Impressions']) # this looses some user information, could instead manually overwrite and fill in the missing values based on the typo combining the impression and history columns"
   ]
  },
  {
   "cell_type": "code",
   "execution_count": 5,
   "metadata": {},
   "outputs": [],
   "source": [
    "item_vectors, news_id_to_index, vectorizer = create_all_item_vectors(news_all)"
   ]
  },
  {
   "cell_type": "code",
   "execution_count": 6,
   "metadata": {},
   "outputs": [],
   "source": [
    "# run if you dont have the data. \n",
    "\n",
    "X_train, y_train = prepare_training_data(behavior_train, item_vectors, news_id_to_index)\n",
    "\n",
    "#save to avoid rerunning the above code as it takes a long time\n",
    "save_npz(\"data/test/X_train.npz\", X_train)\n",
    "np.save(\"data/test/y_train.npy\", y_train)\n",
    "\n",
    "X_dev, y_dev = prepare_training_data(behavior_dev, item_vectors, news_id_to_index, history=True)\n",
    "\n",
    "save_npz(\"data/test/X_dev.npz\", X_dev)\n",
    "np.save(\"data/test/y_dev.npy\", y_dev)"
   ]
  },
  {
   "cell_type": "code",
   "execution_count": 17,
   "metadata": {},
   "outputs": [],
   "source": [
    "#load the data\n",
    "X_train = load_npz(\"data/test/X_train.npz\")\n",
    "y_train = np.load(\"data/test/y_train.npy\")\n",
    "X_dev = load_npz(\"data/test/X_dev.npz\")\n",
    "y_dev = np.load(\"data/test/y_dev.npy\")"
   ]
  },
  {
   "cell_type": "code",
   "execution_count": 18,
   "metadata": {},
   "outputs": [
    {
     "name": "stdout",
     "output_type": "stream",
     "text": [
      "              precision    recall  f1-score   support\n",
      "\n",
      "           0       0.98      0.94      0.96     10320\n",
      "           1       0.79      0.91      0.84      2512\n",
      "\n",
      "    accuracy                           0.93     12832\n",
      "   macro avg       0.88      0.92      0.90     12832\n",
      "weighted avg       0.94      0.93      0.94     12832\n",
      "\n"
     ]
    }
   ],
   "source": [
    "\n",
    "model = train_final_model(X_train, y_train)\n",
    "\n",
    "y_pred = model.predict(X_dev)\n",
    "classification = classification_report(y_dev, y_pred)\n",
    "print(classification)"
   ]
  }
 ],
 "metadata": {
  "kernelspec": {
   "display_name": "Python 3",
   "language": "python",
   "name": "python3"
  },
  "language_info": {
   "codemirror_mode": {
    "name": "ipython",
    "version": 3
   },
   "file_extension": ".py",
   "mimetype": "text/x-python",
   "name": "python",
   "nbconvert_exporter": "python",
   "pygments_lexer": "ipython3",
   "version": "3.9.18"
  }
 },
 "nbformat": 4,
 "nbformat_minor": 2
}
