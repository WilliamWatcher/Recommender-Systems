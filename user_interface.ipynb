{
 "cells": [
  {
   "cell_type": "code",
   "execution_count": 74,
   "metadata": {},
   "outputs": [],
   "source": [
    "# import libraries and datasets\n",
    "\n",
    "import pandas as pd\n",
    "import numpy as np\n",
    "import matplotlib.pyplot as plt\n",
    "\n",
    "# load the dataset\n",
    "\n",
    "behavior = pd.read_csv(\"data/MINDsmall_dev/behaviors.tsv\", sep=\"\\t\", header=None, names=[\"Impression ID\", \"User ID\", \"Time\", \"History\", \"Impressions\"])\n",
    "news = pd.read_csv(\"data/MINDsmall_dev/news.tsv\", sep=\"\\t\", header=None, names=[\"News ID\", \"Category\", \"Subcategory\", \"Title\", \"Abstract\", \"URL\", \"Title Entities\", \"Abstract Entities\", \"Title Topics\", \"Abstract Topics\"])\n",
    "#TODO: read embeddings\n",
    "\n",
    "# Run other notebooks\n",
    "%run feature_based.ipynb\n",
    "%run project.ipynb"
   ]
  },
  {
   "cell_type": "code",
   "execution_count": 38,
   "metadata": {},
   "outputs": [],
   "source": [
    "# Defining constants\n",
    "\n",
    "feature_based_cutoff_point = 10"
   ]
  },
  {
   "cell_type": "code",
   "execution_count": 62,
   "metadata": {},
   "outputs": [],
   "source": [
    "# Defining a session and data needed for system\n",
    "\n",
    "class User_Session:\n",
    "    def __init__(self, userID):\n",
    "        self.userID = userID\n",
    "        self.user_vector = create_x_i(userID)\n",
    "        self.article_vectors = create_all_x_j()\n",
    "        \n",
    "        self.using_feature_based = len(self.user_vector) > feature_based_cutoff_point\n",
    "        self.using_colaborative_filtering = False\n",
    "\n",
    "test_session = User_Session(behavior[\"User ID\"].values[10])\n",
    "\n",
    "\n"
   ]
  },
  {
   "cell_type": "code",
   "execution_count": 79,
   "metadata": {},
   "outputs": [
    {
     "name": "stdout",
     "output_type": "stream",
     "text": [
      "{'sorted_feature': [], 'most_popular': [('N31958', 8042), ('N36779', 4688)]}\n"
     ]
    }
   ],
   "source": [
    "reccomendations = {}\n",
    "\n",
    "if test_session.using_feature_based and test_session.using_colaborative_filtering:\n",
    "    pass\n",
    "\n",
    "elif test_session.using_colaborative_filtering:\n",
    "    pass\n",
    "\n",
    "elif test_session.using_feature_based:\n",
    "    feature_results = score(test_session.user_vector, test_session.article_vectors)\n",
    "    \n",
    "    reccomendations[\"sorted_feature\"] = find_most_popular(\n",
    "        #{k: feature_results[k] for k in list(feature_results)[:40]} # This part doesn't work yet due do discrepency between History and Imressions in behaviors.tsv\n",
    "    )[:8]\n",
    "    reccomendations[\"most_popular\"] = find_most_popular()[:2]\n",
    "\n",
    "else:\n",
    "    reccomendations[\"most_popular\"] = find_most_popular()[:10]\n",
    "\n",
    "\n",
    "print(reccomendations)\n"
   ]
  },
  {
   "cell_type": "code",
   "execution_count": 61,
   "metadata": {},
   "outputs": [
    {
     "name": "stdout",
     "output_type": "stream",
     "text": [
      "      News ID Category   Subcategory  \\\n",
      "41033  N31958   sports  football_nfl   \n",
      "\n",
      "                                                   Title  \\\n",
      "41033  Opinion: Colin Kaepernick is about to get what...   \n",
      "\n",
      "                                                Abstract  \\\n",
      "41033  The end may be near for the 3-year-old saga of...   \n",
      "\n",
      "                                                 URL  \\\n",
      "41033  https://assets.msn.com/labs/mind/BBWLGPA.html   \n",
      "\n",
      "                                          Title Entities  \\\n",
      "41033  [{\"Label\": \"Colin Kaepernick\", \"Type\": \"P\", \"W...   \n",
      "\n",
      "                                       Abstract Entities  Title Topics  \\\n",
      "41033  [{\"Label\": \"Colin Kaepernick\", \"Type\": \"P\", \"W...           NaN   \n",
      "\n",
      "       Abstract Topics  \n",
      "41033              NaN  \n",
      "{'news': 0.06923076923076922, 'newsscienceandtechnology': 0.038461538461538464, 'finance': 0.03461538461538462, 'finance-real-estate': 0.07692307692307693, 'sports': 0.06923076923076922, 'baseball_mlb': 0.038461538461538464, 'newsworld': 0.11538461538461539, 'soccer': 0.038461538461538464, 'tv': 0.023076923076923075, 'tv-celebrity': 0.038461538461538464, 'boxing': 0.038461538461538464, 'newspolitics': 0.038461538461538464, 'video': 0.05, 'viral': 0.038461538461538464, 'football_nfl': 0.11538461538461539, 'lifestyle': 0.05769230769230768, 'voices': 0.038461538461538464, 'lifestylehomeandgarden': 0.038461538461538464, 'travel': 0.023076923076923075, 'traveltripideas': 0.038461538461538464, 'lifestylebuzz': 0.07692307692307693, 'foodanddrink': 0.011538461538461537, 'recipes': 0.038461538461538464, 'lifestyleroyals': 0.038461538461538464, 'tv-gallery': 0.038461538461538464, 'newscrime': 0.038461538461538464, 'personalfinance': 0.038461538461538464}\n"
     ]
    }
   ],
   "source": [
    "print(news.loc[news[\"News ID\"] == \"N31958\"])\n",
    "print(test_session.user_vector)\n",
    "\n",
    "\n"
   ]
  }
 ],
 "metadata": {
  "language_info": {
   "name": "python"
  }
 },
 "nbformat": 4,
 "nbformat_minor": 2
}
