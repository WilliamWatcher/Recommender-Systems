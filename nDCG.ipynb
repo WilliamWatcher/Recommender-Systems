{
 "cells": [
  {
   "cell_type": "code",
   "execution_count": 1,
   "metadata": {},
   "outputs": [],
   "source": [
    "# import libraries and datasets\n",
    "\n",
    "import pandas as pd\n",
    "import numpy as np\n",
    "import matplotlib.pyplot as plt\n",
    "from math import log2 as lg\n",
    "\n",
    "# load the dataset\n",
    "\n",
    "# TODO import correct test set\n",
    "behavior = pd.read_csv(\"data/MINDsmall_dev/behaviors.tsv\", sep=\"\\t\", header=None, names=[\"Impression ID\", \"User ID\", \"Time\", \"History\", \"Impressions\"])\n",
    "news = pd.read_csv(\"data/MINDsmall_dev/news.tsv\", sep=\"\\t\", header=None, names=[\"News ID\", \"Category\", \"Subcategory\", \"Title\", \"Abstract\", \"URL\", \"Title Entities\", \"Abstract Entities\", \"Title Topics\", \"Abstract Topics\"])"
   ]
  },
  {
   "cell_type": "code",
   "execution_count": 2,
   "metadata": {},
   "outputs": [],
   "source": [
    "# Constants\n",
    "theta = 0.5"
   ]
  },
  {
   "cell_type": "code",
   "execution_count": null,
   "metadata": {},
   "outputs": [],
   "source": [
    "# Get all impressions for a user and add them to a df\n",
    "def get_impressions(userID):\n",
    "    test = []\n",
    "    for index, row in behavior.iterrows():\n",
    "        if row[\"User ID\"] == userID:\n",
    "            for impression in row[\"Impressions\"].split(\" \"):\n",
    "                imp = impression.split(\"-\")\n",
    "                test.append((imp[0], int(imp[1])))\n",
    "    return pd.DataFrame(test, columns=[\"News ID\", \"Response\"])\n",
    "\n",
    "# Binarize score of all items in impressions for a user\n",
    "def binarize_score(scored_data):\n",
    "    binarized_data = []\n",
    "    for index, row in scored_data.iterrows():\n",
    "        if row[\"Score\"] > theta:\n",
    "            binarized_data.append((row[\"News ID\"], 1, index))\n",
    "        else:\n",
    "            binarized_data.append((row[\"News ID\"], 0, index))\n",
    "    return pd.DataFrame(binarized_data, columns=[\"News ID\", \"Score\", \"index\"])\n",
    "\n",
    "# Join score and response tables\n",
    "def create_evaluation_data(scored_data, userID):\n",
    "    return binarize_score(scored_data).join(get_impressions(userID), how=\"left\", on=\"News ID\")"
   ]
  },
  {
   "cell_type": "code",
   "execution_count": 3,
   "metadata": {},
   "outputs": [],
   "source": [
    "def DCGi(scored):\n",
    "    if scored.iloc[0][\"index\"] == 0:\n",
    "        dcgi = scored.iloc[0][\"Response\"]\n",
    "    else:\n",
    "        dcgi += scored.iloc[0][\"Response\"]/lg(scored.iloc[0][\"index\"]+1)\n",
    "\n",
    "    for index, row in scored.iloc[1:].iterrows():\n",
    "        dcgi += row[\"Response\"]/lg(row[\"index\"]+1)\n",
    "    \n",
    "    return dcgi\n",
    "\n",
    "\n",
    "\n",
    "def nDCG(scored_data, userID):\n",
    "    scored = create_evaluation_data(scored_data, userID)\n",
    "    dcg = DCGi(scored)\n",
    "    n = 1\n",
    "    count = 2\n",
    "    for index, row in scored.iloc[1:].iterrows():\n",
    "        if row[\"Response\"] == 1:\n",
    "            n += 1/lg(count)\n",
    "            count += 1\n",
    "    return dcg/n\n"
   ]
  }
 ],
 "metadata": {
  "kernelspec": {
   "display_name": "Python 3",
   "language": "python",
   "name": "python3"
  },
  "language_info": {
   "codemirror_mode": {
    "name": "ipython",
    "version": 3
   },
   "file_extension": ".py",
   "mimetype": "text/x-python",
   "name": "python",
   "nbconvert_exporter": "python",
   "pygments_lexer": "ipython3",
   "version": "3.7.4"
  }
 },
 "nbformat": 4,
 "nbformat_minor": 2
}
