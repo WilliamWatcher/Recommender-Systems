{
 "cells": [
  {
   "cell_type": "code",
   "execution_count": null,
   "metadata": {},
   "outputs": [],
   "source": [
    "# import libraries and datasets\n",
    "\n",
    "import pandas as pd\n",
    "import numpy as np\n",
    "import matplotlib.pyplot as plt\n",
    "\n",
    "# load the dataset\n",
    "\n",
    "# TODO import correct test set\n",
    "behavior = pd.read_csv(\"data/MINDsmall_dev/behaviors.tsv\", sep=\"\\t\", header=None, names=[\"Impression ID\", \"User ID\", \"Time\", \"History\", \"Impressions\"])\n",
    "news = pd.read_csv(\"data/MINDsmall_dev/news.tsv\", sep=\"\\t\", header=None, names=[\"News ID\", \"Category\", \"Subcategory\", \"Title\", \"Abstract\", \"URL\", \"Title Entities\", \"Abstract Entities\", \"Title Topics\", \"Abstract Topics\"])"
   ]
  },
  {
   "cell_type": "code",
   "execution_count": null,
   "metadata": {},
   "outputs": [],
   "source": [
    "# Constants\n",
    "theta = 0.5"
   ]
  },
  {
   "cell_type": "code",
   "execution_count": null,
   "metadata": {},
   "outputs": [],
   "source": [
    "# Takes in dataframe with articles and a score, returns dataframe with articles and [1/0], 1 if score above threshold, 0 otherwise\n",
    "def binarize_score(scored_data):\n",
    "    binarized_data = []\n",
    "    for index, row in scored_data.iterrows():\n",
    "        if row[\"Score\"] > theta:\n",
    "            binarized_data.append((row[\"News ID\"], 1))\n",
    "        else:\n",
    "            binarized_data.append((row[\"News ID\"], 0))\n",
    "    return pd.DataFrame(binarized_data)\n",
    "\n",
    "\n",
    "# TODO: Compare binary with actual clicks. Eval function\n",
    "def DCGi():\n",
    "    \n",
    "    pass"
   ]
  }
 ],
 "metadata": {
  "kernelspec": {
   "display_name": "Python 3",
   "language": "python",
   "name": "python3"
  },
  "language_info": {
   "name": "python",
   "version": "3.7.4"
  }
 },
 "nbformat": 4,
 "nbformat_minor": 2
}
