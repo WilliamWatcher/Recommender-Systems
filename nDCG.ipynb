{
 "cells": [
  {
   "cell_type": "code",
   "execution_count": 1,
   "metadata": {},
   "outputs": [],
   "source": [
    "# import libraries and datasets\n",
    "\n",
    "import pandas as pd\n",
    "import numpy as np\n",
    "import matplotlib.pyplot as plt\n",
    "from math import log2 as lg\n",
    "\n",
    "# load the dataset\n",
    "\n",
    "# TODO import correct test set\n",
    "behavior = pd.read_csv(\"data/MINDsmall_dev/behaviors.tsv\", sep=\"\\t\", header=None, names=[\"Impression ID\", \"User ID\", \"Time\", \"History\", \"Impressions\"])\n",
    "news = pd.read_csv(\"data/MINDsmall_dev/news.tsv\", sep=\"\\t\", header=None, names=[\"News ID\", \"Category\", \"Subcategory\", \"Title\", \"Abstract\", \"URL\", \"Title Entities\", \"Abstract Entities\", \"Title Topics\", \"Abstract Topics\"])"
   ]
  },
  {
   "cell_type": "code",
   "execution_count": 2,
   "metadata": {},
   "outputs": [],
   "source": [
    "# Constants\n",
    "theta = 0.5"
   ]
  },
  {
   "cell_type": "code",
   "execution_count": 3,
   "metadata": {},
   "outputs": [],
   "source": [
    "# Takes in dataframe with articles and a score, returns dataframe with articles and [1/0], 1 if score above threshold, 0 otherwise\n",
    "def binarize_score(scored_data):\n",
    "    binarized_data = []\n",
    "    for index, row in scored_data.iterrows():\n",
    "        if row[\"Score\"] > theta:\n",
    "            binarized_data.append((row[\"News ID\"], 1))\n",
    "        else:\n",
    "            binarized_data.append((row[\"News ID\"], 0))\n",
    "    return pd.DataFrame(binarized_data, columns=[\"News ID\", \"Score\"])\n",
    "\n",
    "\n",
    "def DCGi(scored):\n",
    "    dcgi = scored.iloc[0][\"Score\"]\n",
    "    for index, row in scored.iloc[1:].iterrows():\n",
    "        dcgi += row[\"Score\"]/lg(index+1)\n",
    "    \n",
    "    return dcgi\n",
    "\n",
    "\n",
    "def nDCG(scored_data):\n",
    "    scored = binarize_score(scored_data)\n",
    "    dcg = DCGi(scored)\n",
    "    n = 1\n",
    "    for index, row in scored.iloc[1:].iterrows():\n",
    "        if row[\"Score\"] == 1:\n",
    "            n += 1/lg(index+1)\n",
    "    return dcg/n\n"
   ]
  }
 ],
 "metadata": {
  "kernelspec": {
   "display_name": "Python 3",
   "language": "python",
   "name": "python3"
  },
  "language_info": {
   "codemirror_mode": {
    "name": "ipython",
    "version": 3
   },
   "file_extension": ".py",
   "mimetype": "text/x-python",
   "name": "python",
   "nbconvert_exporter": "python",
   "pygments_lexer": "ipython3",
   "version": "3.7.4"
  }
 },
 "nbformat": 4,
 "nbformat_minor": 2
}
