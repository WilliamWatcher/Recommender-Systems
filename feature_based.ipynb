{
 "cells": [
  {
   "cell_type": "code",
   "execution_count": 5,
   "metadata": {},
   "outputs": [],
   "source": [
    "# import libraries and datasets\n",
    "\n",
    "import pandas as pd\n",
    "import numpy as np\n",
    "import matplotlib.pyplot as plt\n",
    "\n",
    "# load the dataset\n",
    "\n",
    "behavior = pd.read_csv(\"data/MINDsmall_dev/behaviors.tsv\", sep=\"\\t\", header=None, names=[\"Impression ID\", \"User ID\", \"Time\", \"History\", \"Impressions\"])\n",
    "news = pd.read_csv(\"data/MINDsmall_dev/news.tsv\", sep=\"\\t\", header=None, names=[\"News ID\", \"Category\", \"Subcategory\", \"Title\", \"Abstract\", \"URL\", \"Title Entities\", \"Abstract Entities\", \"Title Topics\", \"Abstract Topics\"])\n",
    "#TODO: read embeddings"
   ]
  },
  {
   "cell_type": "code",
   "execution_count": 6,
   "metadata": {},
   "outputs": [],
   "source": [
    "#Find tags of an article from an articleID\n",
    "def article_tags(articleID):\n",
    "    tags = []\n",
    "    article = news.loc[news[\"News ID\"] == articleID]\n",
    "    tags.append(article[\"Category\"].values[0])\n",
    "    tags.append(article[\"Subcategory\"].values[0])\n",
    "    return tags[0], tags[1]\n",
    "\n",
    "#Create user vector from a userID\n",
    "def create_x_i(userID):\n",
    "    x_i = {}\n",
    "\n",
    "    # Weights\n",
    "    w_c = 0.3  \n",
    "    w_s = 1.0\n",
    "\n",
    "    article_count = 0\n",
    "\n",
    "    for index, row in behavior.iterrows():\n",
    "        if row[\"User ID\"] == userID:\n",
    "            for articleID in row[\"History\"].split(\" \"):\n",
    "                article_count += 1\n",
    "\n",
    "                category, subcategory = article_tags(articleID)\n",
    "\n",
    "                if category in x_i:\n",
    "                    x_i[category] += w_c\n",
    "                else:\n",
    "                    x_i[category] = w_c\n",
    "                \n",
    "                if subcategory in x_i:\n",
    "                    x_i[subcategory] += w_s\n",
    "                else:\n",
    "                    x_i[subcategory] = w_s\n",
    "    \n",
    "    for trait, score in x_i.items():\n",
    "        x_i[trait] = score/article_count\n",
    "\n",
    "    return x_i\n",
    "\n",
    "#exID = behavior[\"User ID\"].values[1]\n",
    "\n",
    "#x_i = create_x_i(exID)\n",
    "#print(x_i)"
   ]
  },
  {
   "cell_type": "code",
   "execution_count": 7,
   "metadata": {},
   "outputs": [],
   "source": [
    "#TODO create all article vectors\n",
    "def create_all_x_j():\n",
    "    all_x_j = []\n",
    "    for index, row in news.iterrows():\n",
    "        x_j = {}\n",
    "        x_j[\"News ID\"] = row[\"News ID\"]\n",
    "        x_j[row[\"Category\"]] = 1.0\n",
    "        x_j[row[\"Subcategory\"]] = 1.0\n",
    "        all_x_j.append(x_j)\n",
    "    return all_x_j\n",
    "\n",
    "#X_j = create_all_x_j()\n",
    "#print(X_j[1])"
   ]
  },
  {
   "cell_type": "code",
   "execution_count": 11,
   "metadata": {},
   "outputs": [],
   "source": [
    "#TODO create scoring function\n",
    "def score(x_i, X_j):\n",
    "    scores = {}\n",
    "\n",
    "    for x_j in X_j:\n",
    "        for c, s in x_j.items():\n",
    "            article_score = 0\n",
    "            if c in x_i.keys():\n",
    "                article_score += s * x_i[c]\n",
    "        if article_score > 0:\n",
    "            scores[x_j[\"News ID\"]] = article_score\n",
    "    \n",
    "    return dict(sorted(scores.items(), key=lambda x: x[1], reverse=True))\n",
    "\n",
    "#print(score(exID))"
   ]
  }
 ],
 "metadata": {
  "kernelspec": {
   "display_name": "Python 3",
   "language": "python",
   "name": "python3"
  },
  "language_info": {
   "codemirror_mode": {
    "name": "ipython",
    "version": 3
   },
   "file_extension": ".py",
   "mimetype": "text/x-python",
   "name": "python",
   "nbconvert_exporter": "python",
   "pygments_lexer": "ipython3",
   "version": "3.7.4"
  }
 },
 "nbformat": 4,
 "nbformat_minor": 2
}
